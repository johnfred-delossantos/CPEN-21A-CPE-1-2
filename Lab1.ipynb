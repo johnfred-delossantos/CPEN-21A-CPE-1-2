{
  "nbformat": 4,
  "nbformat_minor": 0,
  "metadata": {
    "colab": {
      "name": "Lab1.ipynb",
      "provenance": [],
      "authorship_tag": "ABX9TyPppM6DGSBV4dttXQRZ9Fiy",
      "include_colab_link": true
    },
    "kernelspec": {
      "name": "python3",
      "display_name": "Python 3"
    },
    "language_info": {
      "name": "python"
    }
  },
  "cells": [
    {
      "cell_type": "markdown",
      "metadata": {
        "id": "view-in-github",
        "colab_type": "text"
      },
      "source": [
        "<a href=\"https://colab.research.google.com/github/johnfred-delossantos/CPEN-21A-CPE-1-2/blob/main/Lab1.ipynb\" target=\"_parent\"><img src=\"https://colab.research.google.com/assets/colab-badge.svg\" alt=\"Open In Colab\"/></a>"
      ]
    },
    {
      "cell_type": "markdown",
      "metadata": {
        "id": "9R7pUn4_6vdK"
      },
      "source": [
        "#Laboratory 1"
      ]
    },
    {
      "cell_type": "code",
      "metadata": {
        "colab": {
          "base_uri": "https://localhost:8080/"
        },
        "id": "E9PcrDDs29xv",
        "outputId": "b8b5abaf-a0ec-4aa9-898d-50414af01761"
      },
      "source": [
        "#This code prints/displays \"Welcome to Python Programming\"\n",
        "print(\"Welcome to Python Programming\")"
      ],
      "execution_count": 33,
      "outputs": [
        {
          "output_type": "stream",
          "name": "stdout",
          "text": [
            "Welcome to Python Programming\n"
          ]
        }
      ]
    },
    {
      "cell_type": "code",
      "metadata": {
        "id": "Wlly446Y5AgN",
        "colab": {
          "base_uri": "https://localhost:8080/"
        },
        "outputId": "f49d9b08-7083-4c13-bdcc-8eca3650b276"
      },
      "source": [
        "#This defines the variable for my name, as well as my name\n",
        "name = \"John Fred B. Delos Santos\"\n",
        "\n",
        "#This defines the variable for my age, as well as the value of my age\n",
        "age = 19\n",
        "\n",
        "#This defines the variable for my address, as well as my address\n",
        "address = \"Brgy. San Manuel, Solid Road, Puerto Princesa City, Palawan\"\n",
        "\n",
        "#This prints/displays my name, age, and address\n",
        "print(\"Name:\", name)\n",
        "print(\"Age:\", age, \"years old\")\n",
        "print(\"Adress:\", address)\n",
        "\n",
        "#This prints/displays my name, age, and address, in a formal way.\n",
        "print(\"Hello! My name is\", name + \",\", age, \"years old, from\", address + \".\")"
      ],
      "execution_count": 36,
      "outputs": [
        {
          "output_type": "stream",
          "name": "stdout",
          "text": [
            "Name: John Fred B. Delos Santos\n",
            "Age: 19 years old\n",
            "Adress: Brgy. San Manuel, Solid Road, Puerto Princesa City, Palawan\n",
            "Hello! My name is John Fred B. Delos Santos, 19 years old, from Brgy. San Manuel, Solid Road, Puerto Princesa City, Palawan.\n"
          ]
        }
      ]
    }
  ]
}