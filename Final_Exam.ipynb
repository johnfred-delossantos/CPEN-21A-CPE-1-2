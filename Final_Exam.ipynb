{
  "nbformat": 4,
  "nbformat_minor": 0,
  "metadata": {
    "colab": {
      "name": "Final Exam.ipynb",
      "provenance": [],
      "authorship_tag": "ABX9TyPk+DahNgz0QiVPajh1ki4R",
      "include_colab_link": true
    },
    "kernelspec": {
      "name": "python3",
      "display_name": "Python 3"
    },
    "language_info": {
      "name": "python"
    }
  },
  "cells": [
    {
      "cell_type": "markdown",
      "metadata": {
        "id": "view-in-github",
        "colab_type": "text"
      },
      "source": [
        "<a href=\"https://colab.research.google.com/github/johnfred-delossantos/CPEN-21A-CPE-1-2/blob/main/Final_Exam.ipynb\" target=\"_parent\"><img src=\"https://colab.research.google.com/assets/colab-badge.svg\" alt=\"Open In Colab\"/></a>"
      ]
    },
    {
      "cell_type": "markdown",
      "source": [
        "#Final Exam\n",
        "\n"
      ],
      "metadata": {
        "id": "Q8Gph_ZqNWrj"
      }
    },
    {
      "cell_type": "markdown",
      "source": [
        "####Problem Statement 1"
      ],
      "metadata": {
        "id": "e2xXnjAFN04U"
      }
    },
    {
      "cell_type": "code",
      "source": [
        "nums = [4, 3, 2, 1, 0, -1, -2, -3, -4, -5] #10 numbers less than 5\n",
        "sum = 0\n",
        "\n",
        "for i in nums: \n",
        "  sum += i #adds every value in nums\n",
        "\n",
        "print(f'The sum of 10 numbers less than 5 is {sum}.')"
      ],
      "metadata": {
        "colab": {
          "base_uri": "https://localhost:8080/"
        },
        "id": "6UKPy7KAN2d7",
        "outputId": "449c0985-217b-48f4-9c7b-d2470f8d8568"
      },
      "execution_count": 1,
      "outputs": [
        {
          "output_type": "stream",
          "name": "stdout",
          "text": [
            "The sum of 10 numbers less than 5 is -5.\n"
          ]
        }
      ]
    },
    {
      "cell_type": "markdown",
      "source": [
        "####Problem Statement 2"
      ],
      "metadata": {
        "id": "2A5JGR1YN-62"
      }
    },
    {
      "cell_type": "code",
      "source": [
        "x = 1\n",
        "\n",
        "print(\"Note: Among the five inputs, only the first and the last number will be added. \\n\")\n",
        "\n",
        "while x <= 5:\n",
        "    num = int(input(\"Please enter a number: \"))\n",
        "    if x == 1:\n",
        "        a = num\n",
        "    if x == 5:\n",
        "        e = num \n",
        "    x += 1 #input counter\n",
        "\n",
        "print(f'\\nThe sum of the first and last number is: {a+e}')"
      ],
      "metadata": {
        "colab": {
          "base_uri": "https://localhost:8080/"
        },
        "id": "kSYAgbSzOF9f",
        "outputId": "6f0dee4f-f48d-4aab-97d8-f0a017b901ec"
      },
      "execution_count": 2,
      "outputs": [
        {
          "output_type": "stream",
          "name": "stdout",
          "text": [
            "Note: Among the five inputs, only the first and the last number will be added. \n",
            "\n",
            "Please enter a number: 5\n",
            "Please enter a number: 12\n",
            "Please enter a number: 51\n",
            "Please enter a number: 29\n",
            "Please enter a number: 31\n",
            "\n",
            "The sum of the first and last number is: 36\n"
          ]
        }
      ]
    },
    {
      "cell_type": "markdown",
      "source": [
        "####Problem Statement 3"
      ],
      "metadata": {
        "id": "YiPvQjpxOHMi"
      }
    },
    {
      "cell_type": "code",
      "source": [
        "grade = float(input(\"Please enter your grade: \"))\n",
        "\n",
        "if grade >= 90:\n",
        "  print(\"Your grade is equivalent to A!\")\n",
        "else:\n",
        "  if grade >= 80:\n",
        "    print(\"Your grade is equivalent to B!\")\n",
        "  else:\n",
        "    if grade >= 70:\n",
        "      print(\"Your grade is equivalent to C!\")\n",
        "    else:\n",
        "      if grade >= 60:\n",
        "        print(\"Your grade is equivalent to D!\")\n",
        "      else: \n",
        "        print(\"Your grade is equivalent to F!\") #grade is below 60"
      ],
      "metadata": {
        "colab": {
          "base_uri": "https://localhost:8080/"
        },
        "id": "ILyLzOCMOJIO",
        "outputId": "e1a5406e-2fc2-4db9-8e86-2de7a44019c6"
      },
      "execution_count": 3,
      "outputs": [
        {
          "output_type": "stream",
          "name": "stdout",
          "text": [
            "Please enter your grade: 90.1\n",
            "Your grade is equivalent to A!\n"
          ]
        }
      ]
    }
  ]
}