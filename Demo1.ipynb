{
  "nbformat": 4,
  "nbformat_minor": 0,
  "metadata": {
    "colab": {
      "name": "Demo1.ipynb",
      "provenance": [],
      "authorship_tag": "ABX9TyPeDpcp38oRWrBuvsR2f6aP",
      "include_colab_link": true
    },
    "kernelspec": {
      "name": "python3",
      "display_name": "Python 3"
    },
    "language_info": {
      "name": "python"
    }
  },
  "cells": [
    {
      "cell_type": "markdown",
      "metadata": {
        "id": "view-in-github",
        "colab_type": "text"
      },
      "source": [
        "<a href=\"https://colab.research.google.com/github/johnfred-delossantos/CPEN-21A-CPE-1-2/blob/main/Demo1.ipynb\" target=\"_parent\"><img src=\"https://colab.research.google.com/assets/colab-badge.svg\" alt=\"Open In Colab\"/></a>"
      ]
    },
    {
      "cell_type": "code",
      "metadata": {
        "id": "f-eIeA9p3evO"
      },
      "source": [
        ""
      ],
      "execution_count": null,
      "outputs": []
    },
    {
      "cell_type": "markdown",
      "metadata": {
        "id": "F0kjjuRn3rWJ"
      },
      "source": [
        "#Introduction to Python"
      ]
    },
    {
      "cell_type": "code",
      "metadata": {
        "colab": {
          "base_uri": "https://localhost:8080/"
        },
        "id": "H8dz47nR34Af",
        "outputId": "7108334b-9197-40f9-e0ab-166cbe181a5c"
      },
      "source": [
        "#Python Introduction\n",
        "\n",
        "if 5>2:\n",
        "  print(\"Five is greater than two!\")"
      ],
      "execution_count": null,
      "outputs": [
        {
          "output_type": "stream",
          "name": "stdout",
          "text": [
            "Five is greater than two!\n"
          ]
        }
      ]
    },
    {
      "cell_type": "code",
      "metadata": {
        "colab": {
          "base_uri": "https://localhost:8080/"
        },
        "id": "HtqrKewU4f9I",
        "outputId": "6af6c3c0-4bb5-4d84-ee51-8d8022bc5475"
      },
      "source": [
        "x = 1 #This is a single variable with single value\n",
        "x,y = 1,2 #These are two variables with two different values\n",
        "x,y,z =1,2,3 #These are multiple variables with different values\n",
        "\n",
        "print(x)\n",
        "print(y)\n",
        "print(z)\n",
        "print(x,y,z)"
      ],
      "execution_count": null,
      "outputs": [
        {
          "output_type": "stream",
          "name": "stdout",
          "text": [
            "1\n",
            "2\n",
            "3\n",
            "1 2 3\n"
          ]
        }
      ]
    },
    {
      "cell_type": "code",
      "metadata": {
        "colab": {
          "base_uri": "https://localhost:8080/",
          "height": 35
        },
        "id": "A4PQJWGS6JPX",
        "outputId": "8451a026-e0ad-4648-c7ec-606bd21a4fdc"
      },
      "source": [
        "x,y = \"four\",2\n",
        "x\n",
        "y\n",
        "x"
      ],
      "execution_count": null,
      "outputs": [
        {
          "output_type": "execute_result",
          "data": {
            "application/vnd.google.colaboratory.intrinsic+json": {
              "type": "string"
            },
            "text/plain": [
              "'four'"
            ]
          },
          "metadata": {},
          "execution_count": 12
        }
      ]
    },
    {
      "cell_type": "markdown",
      "metadata": {
        "id": "Y2DOlzU_6-3Q"
      },
      "source": [
        "###Casting"
      ]
    },
    {
      "cell_type": "code",
      "metadata": {
        "colab": {
          "base_uri": "https://localhost:8080/"
        },
        "id": "H2ELmEPR6lW-",
        "outputId": "552a6e8e-977d-4dbf-8e73-02565e82ec0f"
      },
      "source": [
        "b = int(4)\n",
        "b\n",
        "c = float(4)\n",
        "c"
      ],
      "execution_count": null,
      "outputs": [
        {
          "output_type": "execute_result",
          "data": {
            "text/plain": [
              "4.0"
            ]
          },
          "metadata": {},
          "execution_count": 14
        }
      ]
    },
    {
      "cell_type": "code",
      "metadata": {
        "colab": {
          "base_uri": "https://localhost:8080/"
        },
        "id": "ldfCpnsE7IAO",
        "outputId": "b1c30db1-68f4-4298-9899-043b0463ba84"
      },
      "source": [
        "x = 5 #This is an integer\n",
        "y = \"John\" #This is a string\n",
        "z = \"ana\"\n",
        "Z = \"Ana\"\n",
        "\n",
        "print(type(x))\n",
        "print(type(y))\n",
        "print(type(z))\n",
        "print(x)\n",
        "print(y)\n",
        "print(z)\n",
        "print(Z)"
      ],
      "execution_count": 2,
      "outputs": [
        {
          "output_type": "stream",
          "name": "stdout",
          "text": [
            "<class 'int'>\n",
            "<class 'str'>\n",
            "<class 'str'>\n",
            "5\n",
            "John\n",
            "ana\n",
            "Ana\n"
          ]
        }
      ]
    },
    {
      "cell_type": "markdown",
      "metadata": {
        "id": "OaCAvVzK8ZB6"
      },
      "source": [
        "###One Value to Multiple Variables"
      ]
    },
    {
      "cell_type": "code",
      "metadata": {
        "colab": {
          "base_uri": "https://localhost:8080/"
        },
        "id": "yNGTJsj38ctm",
        "outputId": "2950d7ef-c8bc-46bf-fc68-00eaad019667"
      },
      "source": [
        "x = y = z = 'four'\n",
        "print(x)\n",
        "print(y)\n",
        "print(z)"
      ],
      "execution_count": null,
      "outputs": [
        {
          "output_type": "stream",
          "name": "stdout",
          "text": [
            "four\n",
            "four\n",
            "four\n"
          ]
        }
      ]
    },
    {
      "cell_type": "code",
      "metadata": {
        "colab": {
          "base_uri": "https://localhost:8080/"
        },
        "id": "5TJrWKQQ8glq",
        "outputId": "88c9e25e-3793-4eb9-db44-0c51ba23d6d6"
      },
      "source": [
        "x = \"enjoying\"\n",
        "print(\"Python Programming is \" + x)"
      ],
      "execution_count": null,
      "outputs": [
        {
          "output_type": "stream",
          "name": "stdout",
          "text": [
            "Python Programming is enjoying\n"
          ]
        }
      ]
    },
    {
      "cell_type": "code",
      "metadata": {
        "colab": {
          "base_uri": "https://localhost:8080/"
        },
        "id": "ukElMUXJ86ct",
        "outputId": "764fd88c-45f3-4798-badb-d5e6e1a00694"
      },
      "source": [
        "x = 11\n",
        "y = 12\n",
        "z = 13\n",
        "print(x+y+z)"
      ],
      "execution_count": null,
      "outputs": [
        {
          "output_type": "stream",
          "name": "stdout",
          "text": [
            "36\n"
          ]
        }
      ]
    },
    {
      "cell_type": "code",
      "metadata": {
        "colab": {
          "base_uri": "https://localhost:8080/"
        },
        "id": "nYM1dsY-9VHH",
        "outputId": "35c7ff89-be15-4c8e-8288-e110f48fe854"
      },
      "source": [
        "x+=3 #This is the same as x = x + 3\n",
        "print(x)"
      ],
      "execution_count": null,
      "outputs": [
        {
          "output_type": "stream",
          "name": "stdout",
          "text": [
            "14\n"
          ]
        }
      ]
    },
    {
      "cell_type": "code",
      "metadata": {
        "colab": {
          "base_uri": "https://localhost:8080/"
        },
        "id": "YMQiHVqu-VQu",
        "outputId": "2cfe8a21-4cfa-47bf-820a-beddbde4a167"
      },
      "source": [
        "y+=5\n",
        "print(y)"
      ],
      "execution_count": null,
      "outputs": [
        {
          "output_type": "stream",
          "name": "stdout",
          "text": [
            "17\n"
          ]
        }
      ]
    },
    {
      "cell_type": "code",
      "metadata": {
        "colab": {
          "base_uri": "https://localhost:8080/"
        },
        "id": "DGsRMoMM9jWM",
        "outputId": "83907d6b-0528-4835-d6d3-61897492e5a9"
      },
      "source": [
        "print(x>y)"
      ],
      "execution_count": null,
      "outputs": [
        {
          "output_type": "stream",
          "name": "stdout",
          "text": [
            "False\n"
          ]
        }
      ]
    },
    {
      "cell_type": "code",
      "metadata": {
        "colab": {
          "base_uri": "https://localhost:8080/"
        },
        "id": "lJjIP-85-BQe",
        "outputId": "5874cd51-e1af-471a-94e6-4fca489a79eb"
      },
      "source": [
        "x<y and x!=x"
      ],
      "execution_count": null,
      "outputs": [
        {
          "output_type": "execute_result",
          "data": {
            "text/plain": [
              "False"
            ]
          },
          "metadata": {},
          "execution_count": 38
        }
      ]
    },
    {
      "cell_type": "code",
      "metadata": {
        "colab": {
          "base_uri": "https://localhost:8080/"
        },
        "id": "B3bSnoUg-1In",
        "outputId": "2e48ba72-7912-45c0-d2bf-bc532dbe1fc5"
      },
      "source": [
        "x>y or not(y==z)"
      ],
      "execution_count": null,
      "outputs": [
        {
          "output_type": "execute_result",
          "data": {
            "text/plain": [
              "True"
            ]
          },
          "metadata": {},
          "execution_count": 43
        }
      ]
    },
    {
      "cell_type": "code",
      "metadata": {
        "colab": {
          "base_uri": "https://localhost:8080/"
        },
        "id": "XIDur8IE_KUl",
        "outputId": "fefc4c54-b288-4dff-d9bb-130d3ac67a46"
      },
      "source": [
        "not(print(x>y))"
      ],
      "execution_count": null,
      "outputs": [
        {
          "output_type": "stream",
          "name": "stdout",
          "text": [
            "False\n"
          ]
        }
      ]
    },
    {
      "cell_type": "code",
      "metadata": {
        "colab": {
          "base_uri": "https://localhost:8080/"
        },
        "id": "B-gSP1wN_SgU",
        "outputId": "bbe01cdb-fb00-48bb-e3f5-a18d6cd685aa"
      },
      "source": [
        "#Identity Operations\n",
        "print(x is y)\n",
        "print(x is not z)"
      ],
      "execution_count": null,
      "outputs": [
        {
          "output_type": "stream",
          "name": "stdout",
          "text": [
            "False\n",
            "True\n"
          ]
        }
      ]
    }
  ]
}