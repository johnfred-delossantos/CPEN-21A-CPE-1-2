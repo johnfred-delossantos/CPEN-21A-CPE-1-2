{
  "nbformat": 4,
  "nbformat_minor": 0,
  "metadata": {
    "colab": {
      "name": "Control Structure.ipynb",
      "provenance": [],
      "authorship_tag": "ABX9TyMuyR+xlzjfkRqNJ87p7Zd0",
      "include_colab_link": true
    },
    "kernelspec": {
      "name": "python3",
      "display_name": "Python 3"
    },
    "language_info": {
      "name": "python"
    }
  },
  "cells": [
    {
      "cell_type": "markdown",
      "metadata": {
        "id": "view-in-github",
        "colab_type": "text"
      },
      "source": [
        "<a href=\"https://colab.research.google.com/github/johnfred-delossantos/CPEN-21A-CPE-1-2/blob/main/Control_Structure.ipynb\" target=\"_parent\"><img src=\"https://colab.research.google.com/assets/colab-badge.svg\" alt=\"Open In Colab\"/></a>"
      ]
    },
    {
      "cell_type": "markdown",
      "metadata": {
        "id": "VczYmOVuHcBx"
      },
      "source": [
        "##If Statement"
      ]
    },
    {
      "cell_type": "code",
      "metadata": {
        "colab": {
          "base_uri": "https://localhost:8080/"
        },
        "id": "5jdn3g8uHnmJ",
        "outputId": "b4e21a68-bfc3-4378-94dd-ef02a77e5ec1"
      },
      "source": [
        "a = 12\n",
        "b = 100\n",
        "\n",
        "if b > a:\n",
        "  print(\"b is greater than a\")\n",
        "else:\n",
        "  print(\"b is less than a\")"
      ],
      "execution_count": 5,
      "outputs": [
        {
          "output_type": "stream",
          "name": "stdout",
          "text": [
            "b is greater than a\n"
          ]
        }
      ]
    },
    {
      "cell_type": "markdown",
      "metadata": {
        "id": "PHatOasjIT_R"
      },
      "source": [
        "##Elif Statement"
      ]
    },
    {
      "cell_type": "code",
      "metadata": {
        "colab": {
          "base_uri": "https://localhost:8080/"
        },
        "id": "XPaJ1HjEIVtr",
        "outputId": "a29b0225-9499-476b-aea6-4d5d22a54806"
      },
      "source": [
        "a = 120\n",
        "b = 100\n",
        "\n",
        "if b > a:\n",
        "  print(\"b is greater than a\")\n",
        "elif a > b:\n",
        "  print(\"a is greater than b\")"
      ],
      "execution_count": 8,
      "outputs": [
        {
          "output_type": "stream",
          "name": "stdout",
          "text": [
            "a is greater than b\n"
          ]
        }
      ]
    },
    {
      "cell_type": "markdown",
      "metadata": {
        "id": "d6DRULahIzh3"
      },
      "source": [
        "##Else Statement"
      ]
    },
    {
      "cell_type": "code",
      "metadata": {
        "colab": {
          "base_uri": "https://localhost:8080/"
        },
        "id": "UOjhqZVoI2EX",
        "outputId": "c6cb6493-a556-41c9-d5a3-1c1ad1d0067c"
      },
      "source": [
        "a = 100\n",
        "b = 100\n",
        "\n",
        "if b > a:\n",
        "  print(\"b is greater than a\")\n",
        "elif a > b:\n",
        "  print(\"a is greater than b\")\n",
        "else:\n",
        "  print(\"a is equals to b\")"
      ],
      "execution_count": 9,
      "outputs": [
        {
          "output_type": "stream",
          "name": "stdout",
          "text": [
            "a is equals to b\n"
          ]
        }
      ]
    },
    {
      "cell_type": "markdown",
      "metadata": {
        "id": "o9j4Is1kJvI_"
      },
      "source": [
        "##Short Hand If Statement"
      ]
    },
    {
      "cell_type": "code",
      "metadata": {
        "colab": {
          "base_uri": "https://localhost:8080/"
        },
        "id": "ORKht7yVJy9Z",
        "outputId": "4d9f62e9-1f73-4fe3-d46b-0b005cf92bb6"
      },
      "source": [
        "a = 45\n",
        "b = 30\n",
        "\n",
        "if a > b: print(\"a is greater than b\")"
      ],
      "execution_count": 10,
      "outputs": [
        {
          "output_type": "stream",
          "name": "stdout",
          "text": [
            "a is greater than b\n"
          ]
        }
      ]
    },
    {
      "cell_type": "markdown",
      "metadata": {
        "id": "mnh7P0MmJ6te"
      },
      "source": [
        "##Short Hand Else Statement"
      ]
    },
    {
      "cell_type": "code",
      "metadata": {
        "colab": {
          "base_uri": "https://localhost:8080/"
        },
        "id": "8zfbvx7-J9AC",
        "outputId": "15ad7330-1254-41fa-ba7c-32d80534813f"
      },
      "source": [
        "a = 30\n",
        "b = 45\n",
        "\n",
        "print(\"a is greater than b\") if a > b else print(\"b is greater than a\")"
      ],
      "execution_count": 12,
      "outputs": [
        {
          "output_type": "stream",
          "name": "stdout",
          "text": [
            "b is greater than a\n"
          ]
        }
      ]
    },
    {
      "cell_type": "markdown",
      "metadata": {
        "id": "o39wQAFJKvQG"
      },
      "source": [
        "##And Logic Condition"
      ]
    },
    {
      "cell_type": "code",
      "metadata": {
        "colab": {
          "base_uri": "https://localhost:8080/"
        },
        "id": "iW5oWp0SLF6p",
        "outputId": "4203d781-0c24-48ad-909f-06531763d4ca"
      },
      "source": [
        "x = 7\n",
        "\n",
        "if x > 5 and x > 6:\n",
        "  print(\"Both conditions are true\")"
      ],
      "execution_count": 13,
      "outputs": [
        {
          "output_type": "stream",
          "name": "stdout",
          "text": [
            "Both conditions are true\n"
          ]
        }
      ]
    },
    {
      "cell_type": "markdown",
      "metadata": {
        "id": "ArgKIStXLcL-"
      },
      "source": [
        "##Or Logic Condition"
      ]
    },
    {
      "cell_type": "code",
      "metadata": {
        "colab": {
          "base_uri": "https://localhost:8080/"
        },
        "id": "Qv3q6P-QLd_9",
        "outputId": "1957d7e1-82a1-49f9-8aa7-a9c15c2918ea"
      },
      "source": [
        "x = 21\n",
        "if x > 18 or x < 15:\n",
        "  print(\"True\")\n",
        "else:\n",
        "  print(\"False\")"
      ],
      "execution_count": 20,
      "outputs": [
        {
          "output_type": "stream",
          "name": "stdout",
          "text": [
            "True\n"
          ]
        }
      ]
    },
    {
      "cell_type": "code",
      "metadata": {
        "colab": {
          "base_uri": "https://localhost:8080/"
        },
        "id": "6sD9eI--Lo8K",
        "outputId": "2563c2ab-66cb-453d-de21-45a4cc5cd66a"
      },
      "source": [
        "if x > 10:\n",
        "  print(\"Above 10\")\n",
        "  if x > 20:\n",
        "    print(\"Above 20\")\n",
        "  else:\n",
        "    print(\"Below 20\")\n",
        "else:\n",
        "  print(\"x is less than 10\")"
      ],
      "execution_count": 21,
      "outputs": [
        {
          "output_type": "stream",
          "name": "stdout",
          "text": [
            "Above 10\n",
            "Above 20\n"
          ]
        }
      ]
    },
    {
      "cell_type": "markdown",
      "metadata": {
        "id": "MQzAdxt8M66t"
      },
      "source": [
        "##Example 1"
      ]
    },
    {
      "cell_type": "code",
      "metadata": {
        "colab": {
          "base_uri": "https://localhost:8080/"
        },
        "id": "KATrYF_jM8Im",
        "outputId": "a0ab11bc-1d40-4de1-820e-59aa2061de22"
      },
      "source": [
        "age = int(input(\"Enter your age:\"))\n",
        "\n",
        "if age >= 18:\n",
        "  print(\"You are qualified to vote\")\n",
        "else:\n",
        "  print(\"You are not qualified to vote\")"
      ],
      "execution_count": 26,
      "outputs": [
        {
          "output_type": "stream",
          "name": "stdout",
          "text": [
            "Enter your age:19\n",
            "You are qualified to vote\n"
          ]
        }
      ]
    },
    {
      "cell_type": "markdown",
      "metadata": {
        "id": "Tc7arxraNjrX"
      },
      "source": [
        "##Example 2"
      ]
    },
    {
      "cell_type": "code",
      "metadata": {
        "colab": {
          "base_uri": "https://localhost:8080/"
        },
        "id": "kPnUEkIKNlhF",
        "outputId": "819e0b07-593f-4736-a648-09743a357537"
      },
      "source": [
        "number = float(input(\"Enter the number:\"))\n",
        "\n",
        "if number == 0:\n",
        "  print(\"Zero\")\n",
        "elif number > 0:\n",
        "  print(\"POSITIVE\")\n",
        "else:\n",
        "  print(\"NEGATIVE\")"
      ],
      "execution_count": 31,
      "outputs": [
        {
          "output_type": "stream",
          "name": "stdout",
          "text": [
            "Enter the number:-86\n",
            "NEGATIVE\n"
          ]
        }
      ]
    },
    {
      "cell_type": "markdown",
      "metadata": {
        "id": "_bgkUbIQOjpc"
      },
      "source": [
        "##Example 3"
      ]
    },
    {
      "cell_type": "code",
      "metadata": {
        "colab": {
          "base_uri": "https://localhost:8080/"
        },
        "id": "MvewPvpwOmKv",
        "outputId": "86ee461f-9447-4bcd-bb90-4ff64272a637"
      },
      "source": [
        "grade = float(input(\"Please enter your grade:\"))\n",
        "\n",
        "if grade >= 75:\n",
        "  print(\"Passed\")\n",
        "elif grade < 75 and grade >= 74:\n",
        "  print(\"Remedial\")\n",
        "else:\n",
        "  print(\"Failed\")"
      ],
      "execution_count": 65,
      "outputs": [
        {
          "output_type": "stream",
          "name": "stdout",
          "text": [
            "Please enter your grade:74\n",
            "Remedial\n"
          ]
        }
      ]
    }
  ]
}