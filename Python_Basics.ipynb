{
  "nbformat": 4,
  "nbformat_minor": 0,
  "metadata": {
    "colab": {
      "name": "Python_Basics.ipynb",
      "provenance": [],
      "authorship_tag": "ABX9TyNvXOfmaWMGN75QfvfQSG8T",
      "include_colab_link": true
    },
    "kernelspec": {
      "name": "python3",
      "display_name": "Python 3"
    },
    "language_info": {
      "name": "python"
    }
  },
  "cells": [
    {
      "cell_type": "markdown",
      "metadata": {
        "id": "view-in-github",
        "colab_type": "text"
      },
      "source": [
        "<a href=\"https://colab.research.google.com/github/johnfred-delossantos/CPEN-21A-CPE-1-2/blob/main/Python_Basics.ipynb\" target=\"_parent\"><img src=\"https://colab.research.google.com/assets/colab-badge.svg\" alt=\"Open In Colab\"/></a>"
      ]
    },
    {
      "cell_type": "markdown",
      "metadata": {
        "id": "h8MzR2TdICmN"
      },
      "source": [
        "###Python Indention"
      ]
    },
    {
      "cell_type": "code",
      "metadata": {
        "id": "ibmXLMKPIMjH"
      },
      "source": [
        "if 7>3:\n",
        "  print(\"Seven is greater than three!\")"
      ],
      "execution_count": null,
      "outputs": []
    },
    {
      "cell_type": "markdown",
      "metadata": {
        "id": "GJlVAjTsIJLu"
      },
      "source": [
        "###Python Comments"
      ]
    },
    {
      "cell_type": "code",
      "metadata": {
        "colab": {
          "base_uri": "https://localhost:8080/"
        },
        "id": "FiqiL_x2IFT7",
        "outputId": "e8c05acd-b2b7-43fe-ec8c-72571be4ba46"
      },
      "source": [
        "#This is a comment\n",
        "print(\"Hello World!\\nGood Morning!\")"
      ],
      "execution_count": 1,
      "outputs": [
        {
          "output_type": "stream",
          "name": "stdout",
          "text": [
            "Hello World!\n",
            "Good Morning!\n"
          ]
        }
      ]
    },
    {
      "cell_type": "markdown",
      "metadata": {
        "id": "K2tXqwtcI2XU"
      },
      "source": [
        "###Variable Naming Conventions"
      ]
    },
    {
      "cell_type": "code",
      "metadata": {
        "colab": {
          "base_uri": "https://localhost:8080/"
        },
        "id": "g4IGVCFgI4ok",
        "outputId": "e86126d8-3a24-4e6c-a958-40d115ae3e19"
      },
      "source": [
        "x = 8\n",
        "y = 9\n",
        "age = 19\n",
        "fav_color = \"Yellow\"\n",
        "name = \"John Fred Delos Santos\"\n",
        "_x = 10\n",
        "\n",
        "print(x)\n",
        "print(age)\n",
        "print(fav_color)\n",
        "print(name)\n",
        "print(_x)\n",
        "print(\"I am\", name + \",\", age , \"years old, my favorite color is \" + fav_color + \".\")"
      ],
      "execution_count": 29,
      "outputs": [
        {
          "output_type": "stream",
          "name": "stdout",
          "text": [
            "8\n",
            "19\n",
            "Yellow\n",
            "John Fred Delos Santos\n",
            "10\n",
            "I am John Fred Delos Santos, 19 years old, my favorite color is Yellow.\n"
          ]
        }
      ]
    },
    {
      "cell_type": "markdown",
      "metadata": {
        "id": "AfndYP9LJ0Re"
      },
      "source": [
        "###Python Variable"
      ]
    },
    {
      "cell_type": "code",
      "metadata": {
        "colab": {
          "base_uri": "https://localhost:8080/"
        },
        "id": "aFOxJ1XFJ3Eb",
        "outputId": "3837248a-e701-402e-96b1-d503781ebf4a"
      },
      "source": [
        "a = 0\n",
        "b = 1\n",
        "c = 2\n",
        "d = \"Fred\"\n",
        "\n",
        "print(a)\n",
        "print(b)\n",
        "print(c)\n",
        "print(d)"
      ],
      "execution_count": 8,
      "outputs": [
        {
          "output_type": "stream",
          "name": "stdout",
          "text": [
            "0\n",
            "1\n",
            "2\n",
            "Fred\n"
          ]
        }
      ]
    },
    {
      "cell_type": "markdown",
      "metadata": {
        "id": "C_6TB6FSKIDY"
      },
      "source": [
        "###Casting"
      ]
    },
    {
      "cell_type": "code",
      "metadata": {
        "colab": {
          "base_uri": "https://localhost:8080/"
        },
        "id": "9o2n8fY6KHcK",
        "outputId": "6ec0116d-2e17-424d-a731-518e79166266"
      },
      "source": [
        "e = \"John\" #This is a type string\n",
        "\n",
        "e = int(4)\n",
        "print(e)\n",
        "f = float(4)\n",
        "print(f)"
      ],
      "execution_count": 13,
      "outputs": [
        {
          "output_type": "stream",
          "name": "stdout",
          "text": [
            "4\n",
            "4.0\n"
          ]
        }
      ]
    },
    {
      "cell_type": "markdown",
      "metadata": {
        "id": "6zeRn2yiK7Tc"
      },
      "source": [
        "###Type() function"
      ]
    },
    {
      "cell_type": "code",
      "metadata": {
        "colab": {
          "base_uri": "https://localhost:8080/"
        },
        "id": "wQi6sG3hKp97",
        "outputId": "d79f2690-71ca-4557-a5ad-df4cc25b806f"
      },
      "source": [
        "g = 25\n",
        "h = \" Mushi\"\n",
        "g2 = 25.0\n",
        "print(type(g))\n",
        "print(type(h))\n",
        "print(type(g2))"
      ],
      "execution_count": 49,
      "outputs": [
        {
          "output_type": "stream",
          "name": "stdout",
          "text": [
            "<class 'int'>\n",
            "<class 'str'>\n",
            "<class 'float'>\n"
          ]
        }
      ]
    },
    {
      "cell_type": "code",
      "metadata": {
        "id": "oRxBi7h3M_lI"
      },
      "source": [
        ""
      ],
      "execution_count": null,
      "outputs": []
    },
    {
      "cell_type": "markdown",
      "metadata": {
        "id": "HB7nUed5NIqj"
      },
      "source": [
        "###Double Quotes / Single Quotes"
      ]
    },
    {
      "cell_type": "code",
      "metadata": {
        "colab": {
          "base_uri": "https://localhost:8080/"
        },
        "id": "syhlujCgNL9y",
        "outputId": "a13f4477-5ac6-4000-e76a-45f53ca3a09c"
      },
      "source": [
        "name1 = \"John\"\n",
        "name2 = 'Fred'\n",
        "\n",
        "print(\"My name is \" + name1 + \" \" + name2 + \".\")"
      ],
      "execution_count": 35,
      "outputs": [
        {
          "output_type": "stream",
          "name": "stdout",
          "text": [
            "My name is John Fred.\n"
          ]
        }
      ]
    },
    {
      "cell_type": "markdown",
      "metadata": {
        "id": "jWB5UKhSNnRK"
      },
      "source": [
        "###Case Sensitive"
      ]
    },
    {
      "cell_type": "code",
      "metadata": {
        "colab": {
          "base_uri": "https://localhost:8080/"
        },
        "id": "fvvKxqMZNoTx",
        "outputId": "5ff7ac33-a6e2-4072-a0bc-15fb7054c1a9"
      },
      "source": [
        "i = 8\n",
        "I = \"Iroh\"\n",
        "\n",
        "print(i)\n",
        "print(I)"
      ],
      "execution_count": 37,
      "outputs": [
        {
          "output_type": "stream",
          "name": "stdout",
          "text": [
            "8\n",
            "Iroh\n"
          ]
        }
      ]
    },
    {
      "cell_type": "markdown",
      "metadata": {
        "id": "5Lo8bgqXN0As"
      },
      "source": [
        "###Multiple Variables"
      ]
    },
    {
      "cell_type": "code",
      "metadata": {
        "colab": {
          "base_uri": "https://localhost:8080/"
        },
        "id": "w8ylTJV7N1mm",
        "outputId": "dc6e8c2f-ce4d-4c29-a767-0cb0e35fad9f"
      },
      "source": [
        "ele1, ele2, ele3 = \"Wind\", \"Water\", \"Fire\"\n",
        "print(ele1)\n",
        "print(ele2)\n",
        "print(ele3)"
      ],
      "execution_count": 38,
      "outputs": [
        {
          "output_type": "stream",
          "name": "stdout",
          "text": [
            "Wind\n",
            "Water\n",
            "Fire\n"
          ]
        }
      ]
    },
    {
      "cell_type": "markdown",
      "metadata": {
        "id": "xWZrFEODOcIp"
      },
      "source": [
        "###One Value to Multiple Variables"
      ]
    },
    {
      "cell_type": "code",
      "metadata": {
        "colab": {
          "base_uri": "https://localhost:8080/"
        },
        "id": "9w8fwnbMOe25",
        "outputId": "d8792d23-0c18-49aa-a0a2-70ea0baa4b2b"
      },
      "source": [
        "o = p = q = \"Energy\"\n",
        "print(o)\n",
        "print(p)\n",
        "print(q)"
      ],
      "execution_count": 39,
      "outputs": [
        {
          "output_type": "stream",
          "name": "stdout",
          "text": [
            "Energy\n",
            "Energy\n",
            "Energy\n"
          ]
        }
      ]
    },
    {
      "cell_type": "markdown",
      "metadata": {
        "id": "GXlMTpxwOvL5"
      },
      "source": [
        "###Output Variables"
      ]
    },
    {
      "cell_type": "code",
      "metadata": {
        "colab": {
          "base_uri": "https://localhost:8080/"
        },
        "id": "wtA8OoBmOwcq",
        "outputId": "bbe71937-1db8-4c6d-b920-18a0942220c4"
      },
      "source": [
        "r = \"frustrating\"\n",
        "print(\"Debugging your own code is \" + r + \".\")\n",
        "\n",
        "r2 = \"frustrating.\"\n",
        "r3 = \"Debugging your own code is \"\n",
        "print(r3 + r2)"
      ],
      "execution_count": 48,
      "outputs": [
        {
          "output_type": "stream",
          "name": "stdout",
          "text": [
            "Debugging your own code is frustrating.\n",
            "Debugging your own code is frustrating.\n"
          ]
        }
      ]
    },
    {
      "cell_type": "markdown",
      "metadata": {
        "id": "GuZRsYScPcw1"
      },
      "source": [
        "###Arithmetic Operations"
      ]
    },
    {
      "cell_type": "code",
      "metadata": {
        "colab": {
          "base_uri": "https://localhost:8080/"
        },
        "id": "-zu_57eHPotE",
        "outputId": "d2eb86d9-4995-48ee-8ef7-f2ecbbf3c385"
      },
      "source": [
        "num1 = 10\n",
        "num2 = 3\n",
        "\n",
        "print(num1 + num2)\n",
        "print(num1 - num2)\n",
        "print(num1 * num2)\n",
        "print(num1 / num2)\n",
        "print(num1 % num2)\n",
        "print(num1 ** num2)\n",
        "print(num1 // num2)"
      ],
      "execution_count": 53,
      "outputs": [
        {
          "output_type": "stream",
          "name": "stdout",
          "text": [
            "13\n",
            "7\n",
            "30\n",
            "3.3333333333333335\n",
            "1\n",
            "1000\n",
            "3\n"
          ]
        }
      ]
    },
    {
      "cell_type": "markdown",
      "metadata": {
        "id": "Mi-hiSIWQcBg"
      },
      "source": [
        "###Assigment Operators"
      ]
    },
    {
      "cell_type": "code",
      "metadata": {
        "colab": {
          "base_uri": "https://localhost:8080/"
        },
        "id": "oObm02IZQiJI",
        "outputId": "7656965b-d5b8-4395-ab4b-60bc61bae8fe"
      },
      "source": [
        "num1 = 10\n",
        "num2 = 40\n",
        "\n",
        "num1 += 10\n",
        "print(num1)\n",
        "\n",
        "num2 -= 10\n",
        "print(num2)\n"
      ],
      "execution_count": 66,
      "outputs": [
        {
          "output_type": "stream",
          "name": "stdout",
          "text": [
            "20\n",
            "30\n"
          ]
        }
      ]
    },
    {
      "cell_type": "markdown",
      "metadata": {
        "id": "yZQJFFN2RdNo"
      },
      "source": [
        "###Comparison Operators"
      ]
    },
    {
      "cell_type": "code",
      "metadata": {
        "colab": {
          "base_uri": "https://localhost:8080/"
        },
        "id": "i3ufagzdReaP",
        "outputId": "e0e11f67-a202-4117-fdb1-ea4f94067a9a"
      },
      "source": [
        "num3 = 5\n",
        "num4 = 5\n",
        "num5 = 6\n",
        "\n",
        "print(num3 == num4)\n",
        "print(num3 >= num5)\n",
        "print(num5 != num4)"
      ],
      "execution_count": 70,
      "outputs": [
        {
          "output_type": "stream",
          "name": "stdout",
          "text": [
            "True\n",
            "False\n",
            "True\n"
          ]
        }
      ]
    },
    {
      "cell_type": "markdown",
      "metadata": {
        "id": "9SWp2emNR3Wn"
      },
      "source": [
        "###Logical Operators"
      ]
    },
    {
      "cell_type": "code",
      "metadata": {
        "colab": {
          "base_uri": "https://localhost:8080/"
        },
        "id": "uwOmPIIqR4rH",
        "outputId": "af00ec72-b60a-47f0-947a-eeb0520d0a75"
      },
      "source": [
        "print(num3 > 6 and num4 > 6)\n",
        "print(num5 > 4 or num4 < 4)\n",
        "print(not(num3 < 5 and num5 < 4))"
      ],
      "execution_count": 74,
      "outputs": [
        {
          "output_type": "stream",
          "name": "stdout",
          "text": [
            "False\n",
            "True\n",
            "True\n"
          ]
        }
      ]
    },
    {
      "cell_type": "markdown",
      "metadata": {
        "id": "RORWHui7SbO3"
      },
      "source": [
        "###Identity Operators"
      ]
    },
    {
      "cell_type": "code",
      "metadata": {
        "colab": {
          "base_uri": "https://localhost:8080/"
        },
        "id": "iN8PzxCySczm",
        "outputId": "b7948b01-19e2-471b-f77c-cf1d679e5378"
      },
      "source": [
        "print(num3 is num4)\n",
        "print(num3 is not num5)"
      ],
      "execution_count": 75,
      "outputs": [
        {
          "output_type": "stream",
          "name": "stdout",
          "text": [
            "True\n",
            "True\n"
          ]
        }
      ]
    },
    {
      "cell_type": "markdown",
      "metadata": {
        "id": "1JauPtTSSoaS"
      },
      "source": [
        "Bitwise Operators"
      ]
    },
    {
      "cell_type": "code",
      "metadata": {
        "colab": {
          "base_uri": "https://localhost:8080/"
        },
        "id": "MzxL_uIjSpMD",
        "outputId": "94aee07b-1ee1-4d17-f593-e90e3a94481f"
      },
      "source": [
        "bit1 = 10\n",
        "bit2 = 4 \n",
        "\n",
        "print(bit1 & bit2)\n",
        "print(bit1 | bit2)\n",
        "print(bit1 ^ bit2)\n",
        "print(~bit1)\n",
        "print(~bit2)\n",
        "print(bit1 << bit2)\n",
        "print(bit1 >> bit2)"
      ],
      "execution_count": 83,
      "outputs": [
        {
          "output_type": "stream",
          "name": "stdout",
          "text": [
            "0\n",
            "14\n",
            "14\n",
            "-11\n",
            "-5\n",
            "160\n",
            "0\n"
          ]
        }
      ]
    }
  ]
}