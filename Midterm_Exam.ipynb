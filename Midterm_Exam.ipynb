{
  "nbformat": 4,
  "nbformat_minor": 0,
  "metadata": {
    "colab": {
      "name": "Midterm Exam.ipynb",
      "provenance": [],
      "authorship_tag": "ABX9TyPIhK250uUvjxYUVr3q6yyc",
      "include_colab_link": true
    },
    "kernelspec": {
      "name": "python3",
      "display_name": "Python 3"
    },
    "language_info": {
      "name": "python"
    }
  },
  "cells": [
    {
      "cell_type": "markdown",
      "metadata": {
        "id": "view-in-github",
        "colab_type": "text"
      },
      "source": [
        "<a href=\"https://colab.research.google.com/github/johnfred-delossantos/CPEN-21A-CPE-1-2/blob/main/Midterm_Exam.ipynb\" target=\"_parent\"><img src=\"https://colab.research.google.com/assets/colab-badge.svg\" alt=\"Open In Colab\"/></a>"
      ]
    },
    {
      "cell_type": "markdown",
      "metadata": {
        "id": "byTQs7Y_BiHL"
      },
      "source": [
        "##Midterm Exam"
      ]
    },
    {
      "cell_type": "markdown",
      "metadata": {
        "id": "PNV3ViBSBqt5"
      },
      "source": [
        "####Problem Statement 1"
      ]
    },
    {
      "cell_type": "code",
      "metadata": {
        "id": "KUhmIviy3JoV",
        "colab": {
          "base_uri": "https://localhost:8080/"
        },
        "outputId": "7aa3dd6f-2a80-49ba-f911-25e8a2e24914"
      },
      "source": [
        "###[This defines the variables for my full name, student number, age, birthday, address, course, and last sem gwa]###\n",
        "full_name = \"John Fred B. Delos Santos\"\n",
        "student_number = 202101897                        \n",
        "age = 19 \n",
        "birthday = \"August 22, 2002\"    \n",
        "address = \"Brgy. San Manuel, Solid Road, Puerto Princesa City, Palawan\"    \n",
        "course = \"Bachelor of Science in Computer Engineering\"     \n",
        "last_sem_gwa = 97   \n",
        "\n",
        "###[This displays the variables above into a more readable format]###\n",
        "print(f\"Hello! This is Python Programming!\\nSource Code by:\\n\")\n",
        "print(f\"Full Name: {full_name}\")\n",
        "print(f\"Student Number: {student_number}\")\n",
        "print(f\"Age: {age}\")\n",
        "print(f\"Birthday: {birthday}\")\n",
        "print(f\"Address: {address}\")\n",
        "print(f\"Course: {course}\")\n",
        "print(f\"Last Sem GWA: {last_sem_gwa}\")\n",
        "\n"
      ],
      "execution_count": 35,
      "outputs": [
        {
          "output_type": "stream",
          "name": "stdout",
          "text": [
            "Hello! This is Python Programming!\n",
            "Source Code by:\n",
            "\n",
            "Full Name: John Fred B. Delos Santos\n",
            "Student Number: 202101897\n",
            "Age: 19\n",
            "Birthday: August 22, 2002\n",
            "Address: Brgy. San Manuel, Solid Road, Puerto Princesa City, Palawan\n",
            "Course: Bachelor of Science in Computer Engineering\n",
            "Last Sem GWA: 97\n"
          ]
        }
      ]
    },
    {
      "cell_type": "markdown",
      "metadata": {
        "id": "588PzweUFfxv"
      },
      "source": [
        "###Problem Statement 2"
      ]
    },
    {
      "cell_type": "code",
      "metadata": {
        "colab": {
          "base_uri": "https://localhost:8080/"
        },
        "id": "mEo8JXD2FjpZ",
        "outputId": "338dce6d-d6e6-4514-d948-f88d9aa67126"
      },
      "source": [
        "###[Let's first define the variables 'n' and 'answ']###\n",
        "n = 4\n",
        "answ = \"Y\"\n",
        "\n",
        "###[Then let's answer the conditions]###\n",
        "a = (2 < n) and (n < 6) #condition a\n",
        "b = (2 < n) or (n == 6) #condition b\n",
        "c = not(2 < 5) or (n == 6) #condition c\n",
        "d = not(n < 6) #condition d\n",
        "e = (answ == \"Y\") or (answ == \"y\") #condition e\n",
        "f = (answ == \"Y\") and (answ == \"y\") #condition f\n",
        "g = not(answ == \"y\") #condition g\n",
        "h = ((2 < n) and (n == 5+1)) or (answ == \"No\") #condition h\n",
        "i = ((n == 2) and (n == 7)) or (answ == \"Y\") #condition i\n",
        "j = (n == 2) and ((n == 7) or (answ == \"Y\")) #condition j\n",
        "\n",
        "###[Now let's display our answers]###\n",
        "print(f\"1. Condition A: {a}\")\n",
        "print(f\"2. Condition B: {b}\")\n",
        "print(f\"3. Condition C: {c}\")\n",
        "print(f\"4. Condition D: {d}\")\n",
        "print(f\"5. Condition E: {e}\")\n",
        "print(f\"6. Condition F: {f}\")\n",
        "print(f\"7. Condition G: {g}\")\n",
        "print(f\"8. Condition H: {h}\")\n",
        "print(f\"9. Condition I: {i}\")\n",
        "print(f\"10. Condition J: {j}\")"
      ],
      "execution_count": 36,
      "outputs": [
        {
          "output_type": "stream",
          "name": "stdout",
          "text": [
            "1. Condition A: True\n",
            "2. Condition B: True\n",
            "3. Condition C: False\n",
            "4. Condition D: False\n",
            "5. Condition E: True\n",
            "6. Condition F: False\n",
            "7. Condition G: True\n",
            "8. Condition H: False\n",
            "9. Condition I: True\n",
            "10. Condition J: False\n"
          ]
        }
      ]
    },
    {
      "cell_type": "markdown",
      "metadata": {
        "id": "lcBd73TYK7Fu"
      },
      "source": [
        "###Problem Statement 3"
      ]
    },
    {
      "cell_type": "code",
      "metadata": {
        "colab": {
          "base_uri": "https://localhost:8080/"
        },
        "id": "N9HVNy51K9T8",
        "outputId": "23604db0-1e9b-4982-fad6-8aee7f92b4ca"
      },
      "source": [
        "###[Let's first initialize the variables]###\n",
        "x = 2\n",
        "y = -3\n",
        "w = 7\n",
        "z = -10\n",
        "\n",
        "###[Let's now compute the following arithmetic expressions]###\n",
        "a = x/y               #expression a\n",
        "b = w/y/x             #expression b\n",
        "c = z/y%x             #expression c\n",
        "d = x%-y*w            #expression d\n",
        "e = x%y               #expression e\n",
        "f = z%w-y/x*5+5       #expression f\n",
        "g = 9-x%(2+y)         #expression g\n",
        "h = z//w              #expression h\n",
        "i = (2+y)**2          #expression i\n",
        "j = w/x*2             #expression j\n",
        "\n",
        "###[Finally, let's display our answers]###\n",
        "print(f\"Let x = 2, y = -3, w = 7, and z = -10\")\n",
        "print(f\"a = {a}\")\n",
        "print(f\"b = {b}\")\n",
        "print(f\"c = {c}\")\n",
        "print(f\"d = {d}\")\n",
        "print(f\"e = {e}\")\n",
        "print(f\"f = {f}\")\n",
        "print(f\"g = {g}\")\n",
        "print(f\"h = {h}\")\n",
        "print(f\"i = {i}\")\n",
        "print(f\"j = {j}\")"
      ],
      "execution_count": 38,
      "outputs": [
        {
          "output_type": "stream",
          "name": "stdout",
          "text": [
            "Let x = 2, y = -3, w = 7, and z = -10\n",
            "a = -0.6666666666666666\n",
            "b = -1.1666666666666667\n",
            "c = 1.3333333333333335\n",
            "d = 14\n",
            "e = -1\n",
            "f = 16.5\n",
            "g = 9\n",
            "h = -2\n",
            "i = 1\n",
            "j = 7.0\n"
          ]
        }
      ]
    }
  ]
}